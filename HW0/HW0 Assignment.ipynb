{
 "cells": [
  {
   "cell_type": "markdown",
   "metadata": {},
   "source": [
    "Name : Aditi Katale \n",
    "UID : 122175730"
   ]
  },
  {
   "cell_type": "code",
   "execution_count": 3,
   "metadata": {},
   "outputs": [
    {
     "name": "stdout",
     "output_type": "stream",
     "text": [
      "{'g': 2, 'o': 2, 'l': 1, 'e': 1}\n",
      "{'T': 1, 'h': 2, 'i': 6, 's': 7, ' ': 15, 'a': 5, 'g': 1, 'n': 6, 'm': 2, 'e': 10, 't': 10, 'd': 4, 'o': 6, 'u': 4, 'r': 3, 'y': 2, 'b': 3, 'l': 1, 'J': 1, 'p': 1, 'N': 1, 'k': 1, '.': 1}\n"
     ]
    }
   ],
   "source": [
    "def character_frequency(s):\n",
    "    \n",
    "    freq = {}\n",
    "    for char in s:\n",
    "        if char in freq:\n",
    "            freq[char] += 1\n",
    "        else:\n",
    "            freq[char] = 1\n",
    "    return freq\n",
    "\n",
    "# Test cases\n",
    "print(character_frequency('google'))\n",
    "print(character_frequency('This assignment is intended to ensure that you are able to edit and submit Jupyter Notebooks.'))\n"
   ]
  },
  {
   "cell_type": "markdown",
   "metadata": {},
   "source": [
    "Git url : https://github.com/akatale112/DATA602_FardinaAlam"
   ]
  },
  {
   "cell_type": "markdown",
   "metadata": {},
   "source": [
    "Git page url : https://akatale112.github.io/DATA602_FardinaAlam/"
   ]
  },
  {
   "cell_type": "markdown",
   "metadata": {},
   "source": [
    "### 1. Jupyter Notebook (Basic Test)\n",
    "![Jupyter Notebook Output](Jupyter.png)"
   ]
  },
  {
   "cell_type": "markdown",
   "metadata": {},
   "source": [
    "### 2. Jupyter Notebook (PyTorch Check)\n",
    "![PyTorch GPU Check in Jupyter](Jupyter2.png)"
   ]
  },
  {
   "cell_type": "markdown",
   "metadata": {},
   "source": [
    "### 3. Google Colab (Cloud Test)\n",
    "![Google Colab Output](colab.png)"
   ]
  },
  {
   "cell_type": "markdown",
   "metadata": {},
   "source": [
    "### 4. Docker (Bonus)\n",
    "![Docker Proof](Docker.png)"
   ]
  },
  {
   "cell_type": "code",
   "execution_count": null,
   "metadata": {},
   "outputs": [],
   "source": []
  }
 ],
 "metadata": {
  "kernelspec": {
   "display_name": "Python 3 (ipykernel)",
   "language": "python",
   "name": "python3"
  },
  "language_info": {
   "codemirror_mode": {
    "name": "ipython",
    "version": 3
   },
   "file_extension": ".py",
   "mimetype": "text/x-python",
   "name": "python",
   "nbconvert_exporter": "python",
   "pygments_lexer": "ipython3",
   "version": "3.9.6"
  }
 },
 "nbformat": 4,
 "nbformat_minor": 4
}
